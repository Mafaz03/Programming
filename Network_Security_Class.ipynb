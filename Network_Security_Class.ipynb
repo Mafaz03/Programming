{
  "nbformat": 4,
  "nbformat_minor": 0,
  "metadata": {
    "colab": {
      "provenance": [],
      "authorship_tag": "ABX9TyPGIknx07QNDv80OX/w2kBu",
      "include_colab_link": true
    },
    "kernelspec": {
      "name": "python3",
      "display_name": "Python 3"
    },
    "language_info": {
      "name": "python"
    }
  },
  "cells": [
    {
      "cell_type": "markdown",
      "metadata": {
        "id": "view-in-github",
        "colab_type": "text"
      },
      "source": [
        "<a href=\"https://colab.research.google.com/github/Mafaz03/Programming/blob/main/Network_Security_Class.ipynb\" target=\"_parent\"><img src=\"https://colab.research.google.com/assets/colab-badge.svg\" alt=\"Open In Colab\"/></a>"
      ]
    },
    {
      "cell_type": "markdown",
      "source": [
        "#EXP 1\n",
        "##CEASER CIPHER"
      ],
      "metadata": {
        "id": "lnW_-f9wZ1n0"
      }
    },
    {
      "cell_type": "code",
      "execution_count": 3,
      "metadata": {
        "colab": {
          "base_uri": "https://localhost:8080/"
        },
        "id": "n-ZsXwTTZxrs",
        "outputId": "3f5da3ac-6ffe-42b5-b1f7-4fda76c1569c"
      },
      "outputs": [
        {
          "output_type": "stream",
          "name": "stdout",
          "text": [
            "Plain txt : NETWORK SECURITY CLASS\n",
            "Shift pattern : 2\n",
            "Cipher: QHWZRUNqVHFXULWBqFODVV\n"
          ]
        }
      ],
      "source": [
        "def encypt_func(txt, s):\n",
        "  result = \"\"\n",
        "\n",
        "  for i in range(len(txt)):\n",
        "    char = txt[i]\n",
        "    if (char.isupper()):\n",
        "      result += chr((ord(char) + s - 64) % 26 + 65)\n",
        "    else:\n",
        "      result += chr((ord(char) + s - 96) % 26 + 97)\n",
        "  return result\n",
        "\n",
        "txt = \"NETWORK SECURITY CLASS\"\n",
        "s = 2\n",
        "\n",
        "print(\"Plain txt : \" + txt)\n",
        "print(\"Shift pattern : \" + str(s))\n",
        "print(\"Cipher: \" + encypt_func(txt, s))"
      ]
    },
    {
      "cell_type": "markdown",
      "source": [
        "#EXP 2\n",
        "##GCD of 2 numbers"
      ],
      "metadata": {
        "id": "wKCQhlt0dfJU"
      }
    },
    {
      "cell_type": "code",
      "source": [
        "def gcd(a, b):\n",
        "\n",
        "    # Everything divides 0\n",
        "    if (a == 0):\n",
        "        return b\n",
        "    if (b == 0):\n",
        "        return a\n",
        "\n",
        "    # base case\n",
        "    if (a == b):\n",
        "        return a\n",
        "\n",
        "    # a is greater\n",
        "    if (a > b):\n",
        "        return gcd(a-b, b)\n",
        "    return gcd(a, b-a)\n",
        "\n",
        "# Driver program to test above function\n",
        "a = 5\n",
        "b = 420\n",
        "if(gcd(a, b)):\n",
        "    print('GCD of', a, 'and', b, 'is', gcd(a, b))\n",
        "else:\n",
        "    print('not found')"
      ],
      "metadata": {
        "colab": {
          "base_uri": "https://localhost:8080/"
        },
        "id": "jKnkFu3IaYNZ",
        "outputId": "1a3ded0a-21c6-48b5-b953-a743c1144efa"
      },
      "execution_count": 6,
      "outputs": [
        {
          "output_type": "stream",
          "name": "stdout",
          "text": [
            "GCD of 5 and 420 is 5\n"
          ]
        }
      ]
    },
    {
      "cell_type": "markdown",
      "source": [
        "#EXP 1\n",
        "##Rail Fence"
      ],
      "metadata": {
        "id": "O-9KcehMgv4i"
      }
    },
    {
      "cell_type": "code",
      "source": [
        "def playfair_cipher(plaintext, key, mode):\n",
        "\n",
        "    alphabet = 'abcdefghiklmnopqrstuvwxyz'\n",
        "\n",
        "    key = key.lower().replace(' ', '').replace('j', 'i')\n",
        "\n",
        "    key_square = ''\n",
        "    for letter in key + alphabet:\n",
        "        if letter not in key_square:\n",
        "            key_square += letter\n",
        "\n",
        "    plaintext = plaintext.lower().replace(' ', '').replace('j', 'i')\n",
        "    if len(plaintext) % 2 == 1:\n",
        "        plaintext += 'x'\n",
        "    digraphs = [plaintext[i:i+2] for i in range(0, len(plaintext), 2)]\n",
        "\n",
        "    def encrypt(digraph):\n",
        "        a, b = digraph\n",
        "        row_a, col_a = divmod(key_square.index(a), 5)\n",
        "        row_b, col_b = divmod(key_square.index(b), 5)\n",
        "        if row_a == row_b:\n",
        "            col_a = (col_a + 1) % 5\n",
        "            col_b = (col_b + 1) % 5\n",
        "        elif col_a == col_b:\n",
        "            row_a = (row_a + 1) % 5\n",
        "            row_b = (row_b + 1) % 5\n",
        "        else:\n",
        "            col_a, col_b = col_b, col_a\n",
        "        return key_square[row_a*5+col_a] + key_square[row_b*5+col_b]\n",
        "\n",
        "    def decrypt(digraph):\n",
        "        a, b = digraph\n",
        "        row_a, col_a = divmod(key_square.index(a), 5)\n",
        "        row_b, col_b = divmod(key_square.index(b), 5)\n",
        "        if row_a == row_b:\n",
        "            col_a = (col_a - 1) % 5\n",
        "            col_b = (col_b - 1) % 5\n",
        "        elif col_a == col_b:\n",
        "            row_a = (row_a - 1) % 5\n",
        "            row_b = (row_b - 1) % 5\n",
        "        else:\n",
        "            col_a, col_b = col_b, col_a\n",
        "        return key_square[row_a*5+col_a] + key_square[row_b*5+col_b]\n",
        "\n",
        "    result = ''\n",
        "    for digraph in digraphs:\n",
        "        if mode == 'encrypt':\n",
        "            result += encrypt(digraph)\n",
        "        elif mode == 'decrypt':\n",
        "            result += decrypt(digraph)\n",
        "\n",
        "\n",
        "    return result\n",
        "\n",
        "plaintext = 'network security class'\n",
        "key = 'class'\n",
        "ciphertext = playfair_cipher(plaintext, key, 'encrypt')\n",
        "print(f\"Plain text : {plaintext}\")\n",
        "print(f\"Cipher text : {ciphertext}\")\n"
      ],
      "metadata": {
        "colab": {
          "base_uri": "https://localhost:8080/"
        },
        "id": "uliZPQCidjPU",
        "outputId": "3172f94c-ee64-44c2-c2f9-bd811e12eb0f"
      },
      "execution_count": 14,
      "outputs": [
        {
          "output_type": "stream",
          "name": "stdout",
          "text": [
            "Plain text : network security class\n",
            "Cipher text : kgqymunldlptnpvsasbb\n"
          ]
        }
      ]
    },
    {
      "cell_type": "code",
      "source": [],
      "metadata": {
        "id": "a_0Bvuh-fXRn"
      },
      "execution_count": null,
      "outputs": []
    }
  ]
}