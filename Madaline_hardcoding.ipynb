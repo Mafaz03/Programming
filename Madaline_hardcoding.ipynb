{
  "nbformat": 4,
  "nbformat_minor": 0,
  "metadata": {
    "colab": {
      "provenance": [],
      "authorship_tag": "ABX9TyOsQLKW3qSH5QBAbsx2UPbA",
      "include_colab_link": true
    },
    "kernelspec": {
      "name": "python3",
      "display_name": "Python 3"
    },
    "language_info": {
      "name": "python"
    }
  },
  "cells": [
    {
      "cell_type": "markdown",
      "metadata": {
        "id": "view-in-github",
        "colab_type": "text"
      },
      "source": [
        "<a href=\"https://colab.research.google.com/github/Mafaz03/Programming/blob/main/Madaline_hardcoding.ipynb\" target=\"_parent\"><img src=\"https://colab.research.google.com/assets/colab-badge.svg\" alt=\"Open In Colab\"/></a>"
      ]
    },
    {
      "cell_type": "code",
      "execution_count": 42,
      "metadata": {
        "id": "pIatBmsUAzuz"
      },
      "outputs": [],
      "source": [
        "X = [[1 , 1] , [1 , -1] , [-1 , 1] , [-1 , -1]]\n",
        "y = [-1 , 1 , 1 , -1]"
      ]
    },
    {
      "cell_type": "code",
      "source": [
        "w11 = 0.05\n",
        "w12 = 0.1\n",
        "b1 = 0.3\n",
        "\n",
        "w21 = 0.2\n",
        "w22 = 0.2\n",
        "b2 = 0.15\n",
        "\n",
        "v1 = 0.5\n",
        "v2 = 0.5\n",
        "b3 = 0.5\n",
        "\n",
        "lr = 0.5"
      ],
      "metadata": {
        "id": "lyL5nzf_BumB"
      },
      "execution_count": 37,
      "outputs": []
    },
    {
      "cell_type": "code",
      "source": [
        "def activation_function(num : float) -> int:\n",
        "  if num >= 0:\n",
        "    return 1\n",
        "  else:\n",
        "    return -1"
      ],
      "metadata": {
        "id": "vaL1WrpICmJM"
      },
      "execution_count": 64,
      "outputs": []
    },
    {
      "cell_type": "code",
      "source": [
        "w11 = 0.05\n",
        "w12 = 0.1\n",
        "b1 = 0.3\n",
        "\n",
        "w21 = 0.2\n",
        "w22 = 0.2\n",
        "b2 = 0.15\n",
        "\n",
        "v1 = 0.5\n",
        "v2 = 0.5\n",
        "b3 = 0.5\n",
        "\n",
        "lr = 0.5\n",
        "\n",
        "\n",
        "epochs = 3\n",
        "itterations = len(X)\n",
        "\n",
        "for epoch in range(epochs):\n",
        "  print(f\"Epoch: {epoch+1}\")\n",
        "  for itter in range(itterations):\n",
        "    z1 = (w11 * X[itter][0] + w21 * X[itter][1]) + b1\n",
        "    z2 = (w12 * X[itter][0] + w22 * X[itter][1]) + b2\n",
        "\n",
        "    z1_after_activation = activation_function(z1)\n",
        "    z2_after_activation = activation_function(z2)\n",
        "\n",
        "    yin = (z1_after_activation * v1 + z2_after_activation * v2) + b3\n",
        "    y_after_activation = activation_function(yin)\n",
        "\n",
        "    if y_after_activation != y[itter]:\n",
        "      w11 = w11 + lr * (y[itter] - z1) * X[itter][0]\n",
        "      w21 = w21 + lr * (y[itter] - z1) * X[itter][0]\n",
        "      b1 = b1 + lr * (y[itter] - z1)\n",
        "\n",
        "      w12 = w12 + lr * (y[itter] - z2) * X[itter][1]\n",
        "      w22 = w22 + lr * (y[itter] - z2) * X[itter][1]\n",
        "      b2 = b2 + lr * (y[itter] - z2)\n",
        "\n",
        "    print(f\"Itteration: {itter+1}\")\n",
        "\n",
        "    print(f\"w11: {w11}\")\n",
        "    print(f\"w21: {w21}\")\n",
        "    print(f\"w12: {w12}\")\n",
        "    print(f\"w22: {w22}\")\n",
        "    print(f\"b1: {b1}\")\n",
        "    print(f\"b2: {b2}\")\n",
        "    print(\"\\n\")\n",
        "\n",
        "  print(\"\\n\")\n",
        "  print(f\"#\"*50)\n",
        "  print(\"\\n\")"
      ],
      "metadata": {
        "colab": {
          "base_uri": "https://localhost:8080/"
        },
        "id": "fxrvWXwUBujm",
        "outputId": "aec58d1b-aad4-4874-db02-3f1830fe3e5e"
      },
      "execution_count": 67,
      "outputs": [
        {
          "output_type": "stream",
          "name": "stdout",
          "text": [
            "Epoch: 1\n",
            "Itteration: 1\n",
            "w11: -0.725\n",
            "w21: -0.575\n",
            "w12: -0.6250000000000001\n",
            "w22: -0.5250000000000001\n",
            "b1: -0.47500000000000003\n",
            "b2: -0.5750000000000001\n",
            "\n",
            "\n",
            "Itteration: 2\n",
            "w11: 0.08750000000000002\n",
            "w21: 0.23750000000000004\n",
            "w12: -1.4625000000000001\n",
            "w22: -1.3625000000000003\n",
            "b1: 0.33749999999999997\n",
            "b2: 0.26249999999999996\n",
            "\n",
            "\n",
            "Itteration: 3\n",
            "w11: 0.08750000000000002\n",
            "w21: 0.23750000000000004\n",
            "w12: -1.4625000000000001\n",
            "w22: -1.3625000000000003\n",
            "b1: 0.33749999999999997\n",
            "b2: 0.26249999999999996\n",
            "\n",
            "\n",
            "Itteration: 4\n",
            "w11: 0.59375\n",
            "w21: 0.74375\n",
            "w12: 0.58125\n",
            "w22: 0.6812499999999999\n",
            "b1: -0.16875\n",
            "b2: -1.7812500000000002\n",
            "\n",
            "\n",
            "\n",
            "\n",
            "##################################################\n",
            "\n",
            "\n",
            "Epoch: 2\n",
            "Itteration: 1\n",
            "w11: -0.4906250000000001\n",
            "w21: -0.34062500000000007\n",
            "w12: 0.3406250000000002\n",
            "w22: 0.44062500000000004\n",
            "b1: -1.253125\n",
            "b2: -2.021875\n",
            "\n",
            "\n",
            "Itteration: 2\n",
            "w11: 0.7109375\n",
            "w21: 0.8609375\n",
            "w12: -1.2203125\n",
            "w22: -1.1203125\n",
            "b1: -0.051562499999999956\n",
            "b2: -0.4609375\n",
            "\n",
            "\n",
            "Itteration: 3\n",
            "w11: 0.7109375\n",
            "w21: 0.8609375\n",
            "w12: -1.2203125\n",
            "w22: -1.1203125\n",
            "b1: -0.051562499999999956\n",
            "b2: -0.4609375\n",
            "\n",
            "\n",
            "Itteration: 4\n",
            "w11: 0.39921875000000007\n",
            "w21: 0.5492187500000001\n",
            "w12: 0.21953125000000018\n",
            "w22: 0.31953125000000004\n",
            "b1: 0.26015625\n",
            "b2: -1.90078125\n",
            "\n",
            "\n",
            "\n",
            "\n",
            "##################################################\n",
            "\n",
            "\n",
            "Epoch: 3\n",
            "Itteration: 1\n",
            "w11: -0.7050781250000001\n",
            "w21: -0.5550781250000001\n",
            "w12: 0.4003906250000001\n",
            "w22: 0.500390625\n",
            "b1: -0.8441406250000002\n",
            "b2: -1.7199218750000003\n",
            "\n",
            "\n",
            "Itteration: 2\n",
            "w11: 0.2919921875\n",
            "w21: 0.4419921875\n",
            "w12: -1.0095703125000002\n",
            "w22: -0.9095703125000002\n",
            "b1: 0.1529296874999999\n",
            "b2: -0.3099609375000001\n",
            "\n",
            "\n",
            "Itteration: 3\n",
            "w11: 0.2919921875\n",
            "w21: 0.4419921875\n",
            "w12: -1.0095703125000002\n",
            "w22: -0.9095703125000002\n",
            "b1: 0.1529296874999999\n",
            "b2: -0.3099609375000001\n",
            "\n",
            "\n",
            "Itteration: 4\n",
            "w11: 0.50146484375\n",
            "w21: 0.6514648437499999\n",
            "w12: 0.2950195312499999\n",
            "w22: 0.3950195312499999\n",
            "b1: -0.05654296875000003\n",
            "b2: -1.6145507812500002\n",
            "\n",
            "\n",
            "\n",
            "\n",
            "##################################################\n",
            "\n",
            "\n"
          ]
        }
      ]
    },
    {
      "cell_type": "code",
      "source": [],
      "metadata": {
        "id": "21wF8woXOX09"
      },
      "execution_count": null,
      "outputs": []
    },
    {
      "cell_type": "code",
      "source": [],
      "metadata": {
        "id": "qJ-kBuYhBufU"
      },
      "execution_count": null,
      "outputs": []
    },
    {
      "cell_type": "code",
      "source": [],
      "metadata": {
        "id": "CsRywwviBudC"
      },
      "execution_count": null,
      "outputs": []
    },
    {
      "cell_type": "code",
      "source": [],
      "metadata": {
        "id": "lb_gT10PBuaj"
      },
      "execution_count": null,
      "outputs": []
    }
  ]
}