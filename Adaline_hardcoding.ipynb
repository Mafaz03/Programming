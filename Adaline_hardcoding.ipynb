{
  "nbformat": 4,
  "nbformat_minor": 0,
  "metadata": {
    "colab": {
      "provenance": [],
      "authorship_tag": "ABX9TyM8ta2Qav19dK1HVe+QbxCf",
      "include_colab_link": true
    },
    "kernelspec": {
      "name": "python3",
      "display_name": "Python 3"
    },
    "language_info": {
      "name": "python"
    }
  },
  "cells": [
    {
      "cell_type": "markdown",
      "metadata": {
        "id": "view-in-github",
        "colab_type": "text"
      },
      "source": [
        "<a href=\"https://colab.research.google.com/github/Mafaz03/Programming/blob/main/Adaline_hardcoding.ipynb\" target=\"_parent\"><img src=\"https://colab.research.google.com/assets/colab-badge.svg\" alt=\"Open In Colab\"/></a>"
      ]
    },
    {
      "cell_type": "code",
      "source": [
        "w1 = 0.32\n",
        "w2 = 0.53\n",
        "b1 = 0.33\n",
        "lr = 0.01"
      ],
      "metadata": {
        "id": "atD4vfkvgXhJ"
      },
      "execution_count": 52,
      "outputs": []
    },
    {
      "cell_type": "code",
      "source": [
        "X = [[1 , 1] , [1 , -1] , [-1 , 1] , [-1 , -1]]\n",
        "y = [1 , -1 , -1 , -1]"
      ],
      "metadata": {
        "id": "UD6brcfEgXep"
      },
      "execution_count": 53,
      "outputs": []
    },
    {
      "cell_type": "code",
      "source": [
        "epochs = 5\n",
        "errors = []\n",
        "\n",
        "for epoch in range(epochs):\n",
        "  for itter in range(len(X)):\n",
        "    error = 0\n",
        "    yin = (X[itter][0] * w1) + (X[itter][1] * w2) + b1\n",
        "    if yin != y[itter]:\n",
        "      error = (y[itter] - yin)**2\n",
        "      errors.append(error)\n",
        "      w1 = w1 + (lr * (y[itter] - yin) * X[itter][0])\n",
        "      w2 = w2 + (lr * (y[itter] - yin) * X[itter][1])\n",
        "      b1 = b1 + (lr * (y[itter] - yin))\n",
        "  print(f\"Epoch {epoch + 1} Training error : {round(error/epochs , 4)}\")"
      ],
      "metadata": {
        "colab": {
          "base_uri": "https://localhost:8080/"
        },
        "id": "1-wEQ3QlgXcK",
        "outputId": "0aeca874-0a79-44b9-f149-d3686fa890f3"
      },
      "execution_count": 54,
      "outputs": [
        {
          "output_type": "stream",
          "name": "stdout",
          "text": [
            "Epoch 1 Training error : 0.0414\n",
            "Epoch 2 Training error : 0.0348\n",
            "Epoch 3 Training error : 0.0289\n",
            "Epoch 4 Training error : 0.0238\n",
            "Epoch 5 Training error : 0.0194\n"
          ]
        }
      ]
    },
    {
      "cell_type": "code",
      "source": [
        "print(f\"Weight 1 : {w1}\\nWeight 2 : {w2}\\nBias 1 : {b1}\")"
      ],
      "metadata": {
        "colab": {
          "base_uri": "https://localhost:8080/"
        },
        "id": "EJ2xsMIOgW-y",
        "outputId": "37220c46-ce17-45dc-a2bd-205ee7592392"
      },
      "execution_count": 55,
      "outputs": [
        {
          "output_type": "stream",
          "name": "stdout",
          "text": [
            "Weight 1 : 0.35261385218744373\n",
            "Weight 2 : 0.5228543999689643\n",
            "Bias 1 : 0.17749379126849216\n"
          ]
        }
      ]
    }
  ]
}