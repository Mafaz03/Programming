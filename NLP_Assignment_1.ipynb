{
  "nbformat": 4,
  "nbformat_minor": 0,
  "metadata": {
    "colab": {
      "provenance": [],
      "authorship_tag": "ABX9TyPsgK4GCWzUKtIY1xWE6Pe5",
      "include_colab_link": true
    },
    "kernelspec": {
      "name": "python3",
      "display_name": "Python 3"
    },
    "language_info": {
      "name": "python"
    }
  },
  "cells": [
    {
      "cell_type": "markdown",
      "metadata": {
        "id": "view-in-github",
        "colab_type": "text"
      },
      "source": [
        "<a href=\"https://colab.research.google.com/github/Mafaz03/Programming/blob/main/NLP_Assignment_1.ipynb\" target=\"_parent\"><img src=\"https://colab.research.google.com/assets/colab-badge.svg\" alt=\"Open In Colab\"/></a>"
      ]
    },
    {
      "cell_type": "markdown",
      "source": [
        "##Exercise 1: Basic Text Analytics"
      ],
      "metadata": {
        "id": "fc2RDNl9_QlZ"
      }
    },
    {
      "cell_type": "code",
      "execution_count": 7,
      "metadata": {
        "colab": {
          "base_uri": "https://localhost:8080/"
        },
        "id": "l021lThX_GcV",
        "outputId": "9e3183d3-0165-4ce5-e0ec-e29b767f22da"
      },
      "outputs": [
        {
          "output_type": "stream",
          "name": "stdout",
          "text": [
            "True\n",
            "16\n",
            "7\n",
            "brown\n",
            "nworb\n",
            "Thedog\n",
            "['The', 'brown', 'jumps', 'the', 'dog']\n",
            "dog\n",
            "god yzal eht revo spmuj xof nworb kciuq ehT\n",
            "ehT kciuq nworb xof spmuj revo eht yzal god\n"
          ]
        }
      ],
      "source": [
        "# Assign the given sentence to a variable\n",
        "sentence = 'The quick brown fox jumps over the lazy dog'\n",
        "\n",
        "# Check if the word 'quick' belongs to the text\n",
        "print('quick' in sentence)\n",
        "# Output: True\n",
        "\n",
        "# Find the index value of the word 'fox'\n",
        "print(sentence.index('fox'))\n",
        "# Output: 16\n",
        "\n",
        "# Find the rank of the word 'lazy'\n",
        "print(sentence.split().index('lazy'))\n",
        "# Output: 7\n",
        "\n",
        "# Print the third word of the text\n",
        "print(sentence.split()[2])\n",
        "# Output: 'brown'\n",
        "\n",
        "# Print the third word of the text in reverse order\n",
        "print(sentence.split()[2][::-1])\n",
        "# Output: 'nworb'\n",
        "\n",
        "# Concatenate the first and last words of the text\n",
        "words = sentence.split()\n",
        "first_word = words[0]\n",
        "last_word = words[-1]  # Alternatively: last_word = words[len(words)-1]\n",
        "concat_word = first_word + last_word\n",
        "print(concat_word)\n",
        "# Output: 'Thedog'\n",
        "\n",
        "# Print words at even positions\n",
        "print([words[i] for i in range(len(words)) if i%2 == 0])\n",
        "# Output: ['The', 'brown', 'jumps', 'the', 'dog']\n",
        "\n",
        "# Print the last three letters of the text\n",
        "print(sentence[-3:])\n",
        "# Output: 'dog'\n",
        "\n",
        "# Print the text in reverse order\n",
        "print(sentence[::-1])\n",
        "# Output: 'god yzal eht revo spmuj xof nworb kciuq ehT'\n",
        "\n",
        "# Print each word of the text in reverse order, maintaining their sequence\n",
        "print(' '.join([word[::-1] for word in words]))\n",
        "# Output: 'ehT kciuq nworb xof spmuj revo eht yzal god'\n"
      ]
    },
    {
      "cell_type": "markdown",
      "source": [
        "##Exercise 2: Tokenization of a Simple Sentence\n"
      ],
      "metadata": {
        "id": "ngsXPwhaAkmC"
      }
    },
    {
      "cell_type": "code",
      "source": [
        "# Importing necessary libraries\n",
        "import nltk\n",
        "nltk.download('punkt')\n",
        "from nltk import word_tokenize\n",
        "\n",
        "# Tokenize the sentence\n",
        "words = word_tokenize(\"I am reading NLP Fundamentals\")\n",
        "\n",
        "# Print the list of tokens\n",
        "print(words)"
      ],
      "metadata": {
        "colab": {
          "base_uri": "https://localhost:8080/"
        },
        "id": "uGGAOV8F_j2q",
        "outputId": "89fd3b90-d67f-498b-e641-a6f092db8ae2"
      },
      "execution_count": 9,
      "outputs": [
        {
          "output_type": "stream",
          "name": "stderr",
          "text": [
            "[nltk_data] Downloading package punkt to /root/nltk_data...\n",
            "[nltk_data]   Unzipping tokenizers/punkt.zip.\n"
          ]
        },
        {
          "output_type": "stream",
          "name": "stdout",
          "text": [
            "['I', 'am', 'reading', 'NLP', 'Fundamentals']\n"
          ]
        }
      ]
    },
    {
      "cell_type": "markdown",
      "source": [
        "##Exercise 3: PoS Tagging"
      ],
      "metadata": {
        "id": "llSB6rHTAhf0"
      }
    },
    {
      "cell_type": "code",
      "source": [
        "# Importing necessary libraries\n",
        "import nltk\n",
        "nltk.download('averaged_perceptron_tagger')\n",
        "from nltk import word_tokenize\n",
        "\n",
        "# Tokenize the sentence\n",
        "words = word_tokenize(\"I am reading NLP Fundamentals\")\n",
        "\n",
        "# Print the tokens\n",
        "print(words)\n",
        "\n",
        "# Perform PoS tagging\n",
        "pos_tags = nltk.pos_tag(words)\n",
        "\n",
        "# Print the PoS tags\n",
        "print(pos_tags)\n"
      ],
      "metadata": {
        "colab": {
          "base_uri": "https://localhost:8080/"
        },
        "id": "LtgUZIHt_j1f",
        "outputId": "943e5834-1500-4c4c-b3fc-8f557b494a67"
      },
      "execution_count": 11,
      "outputs": [
        {
          "output_type": "stream",
          "name": "stderr",
          "text": [
            "[nltk_data] Downloading package averaged_perceptron_tagger to\n",
            "[nltk_data]     /root/nltk_data...\n",
            "[nltk_data]   Unzipping taggers/averaged_perceptron_tagger.zip.\n"
          ]
        },
        {
          "output_type": "stream",
          "name": "stdout",
          "text": [
            "['I', 'am', 'reading', 'NLP', 'Fundamentals']\n",
            "[('I', 'PRP'), ('am', 'VBP'), ('reading', 'VBG'), ('NLP', 'NNP'), ('Fundamentals', 'NNS')]\n"
          ]
        }
      ]
    },
    {
      "cell_type": "markdown",
      "source": [
        "##Exercise 4: Stop Word Removal\n"
      ],
      "metadata": {
        "id": "ARxLG8FmAyDD"
      }
    },
    {
      "cell_type": "code",
      "source": [
        "# Importing necessary libraries\n",
        "import nltk\n",
        "from nltk import word_tokenize\n",
        "from nltk.corpus import stopwords\n",
        "\n",
        "# Download the stopwords corpus (if not already downloaded)\n",
        "nltk.download('stopwords')\n",
        "\n",
        "# Get the list of stopwords for the English language\n",
        "stop_words = stopwords.words('english')\n",
        "\n",
        "# Print the list of stopwords\n",
        "print(stop_words)\n",
        "\n",
        "# Define the sentence from which we want to remove stopwords\n",
        "sentence = \"I am learning Python. It is one of the most popular programming languages\"\n",
        "\n",
        "# Tokenize the sentence into words\n",
        "sentence_words = word_tokenize(sentence)\n",
        "\n",
        "# Print the list of tokens\n",
        "print(sentence_words)\n",
        "\n",
        "# Remove stopwords from the sentence\n",
        "sentence_no_stops = ' '.join([word for word in sentence_words if word.lower() not in stop_words])\n",
        "\n",
        "# Print the sentence without stopwords\n",
        "print(sentence_no_stops)\n"
      ],
      "metadata": {
        "colab": {
          "base_uri": "https://localhost:8080/"
        },
        "id": "n1x-pgie_jz_",
        "outputId": "50d0d207-c011-4987-9551-6d134fd3c3a0"
      },
      "execution_count": 12,
      "outputs": [
        {
          "output_type": "stream",
          "name": "stdout",
          "text": [
            "['i', 'me', 'my', 'myself', 'we', 'our', 'ours', 'ourselves', 'you', \"you're\", \"you've\", \"you'll\", \"you'd\", 'your', 'yours', 'yourself', 'yourselves', 'he', 'him', 'his', 'himself', 'she', \"she's\", 'her', 'hers', 'herself', 'it', \"it's\", 'its', 'itself', 'they', 'them', 'their', 'theirs', 'themselves', 'what', 'which', 'who', 'whom', 'this', 'that', \"that'll\", 'these', 'those', 'am', 'is', 'are', 'was', 'were', 'be', 'been', 'being', 'have', 'has', 'had', 'having', 'do', 'does', 'did', 'doing', 'a', 'an', 'the', 'and', 'but', 'if', 'or', 'because', 'as', 'until', 'while', 'of', 'at', 'by', 'for', 'with', 'about', 'against', 'between', 'into', 'through', 'during', 'before', 'after', 'above', 'below', 'to', 'from', 'up', 'down', 'in', 'out', 'on', 'off', 'over', 'under', 'again', 'further', 'then', 'once', 'here', 'there', 'when', 'where', 'why', 'how', 'all', 'any', 'both', 'each', 'few', 'more', 'most', 'other', 'some', 'such', 'no', 'nor', 'not', 'only', 'own', 'same', 'so', 'than', 'too', 'very', 's', 't', 'can', 'will', 'just', 'don', \"don't\", 'should', \"should've\", 'now', 'd', 'll', 'm', 'o', 're', 've', 'y', 'ain', 'aren', \"aren't\", 'couldn', \"couldn't\", 'didn', \"didn't\", 'doesn', \"doesn't\", 'hadn', \"hadn't\", 'hasn', \"hasn't\", 'haven', \"haven't\", 'isn', \"isn't\", 'ma', 'mightn', \"mightn't\", 'mustn', \"mustn't\", 'needn', \"needn't\", 'shan', \"shan't\", 'shouldn', \"shouldn't\", 'wasn', \"wasn't\", 'weren', \"weren't\", 'won', \"won't\", 'wouldn', \"wouldn't\"]\n",
            "['I', 'am', 'learning', 'Python', '.', 'It', 'is', 'one', 'of', 'the', 'most', 'popular', 'programming', 'languages']\n",
            "learning Python . one popular programming languages\n"
          ]
        },
        {
          "output_type": "stream",
          "name": "stderr",
          "text": [
            "[nltk_data] Downloading package stopwords to /root/nltk_data...\n",
            "[nltk_data]   Unzipping corpora/stopwords.zip.\n"
          ]
        }
      ]
    },
    {
      "cell_type": "code",
      "source": [
        "sentence_no_stops"
      ],
      "metadata": {
        "colab": {
          "base_uri": "https://localhost:8080/",
          "height": 56
        },
        "id": "UCxnd627_jyv",
        "outputId": "36aa849e-54eb-4a0d-fdf8-798d505a099b"
      },
      "execution_count": 13,
      "outputs": [
        {
          "output_type": "execute_result",
          "data": {
            "text/plain": [
              "'learning Python . one popular programming languages'"
            ],
            "application/vnd.google.colaboratory.intrinsic+json": {
              "type": "string"
            }
          },
          "metadata": {},
          "execution_count": 13
        }
      ]
    },
    {
      "cell_type": "markdown",
      "source": [
        "##Exercise 5: Text Normalization\n"
      ],
      "metadata": {
        "id": "n9wJd0WeBLdN"
      }
    },
    {
      "cell_type": "code",
      "source": [
        "# Assign a string to the sentence variable\n",
        "sentence = \"I visited US from UK on 22-10-18\"\n",
        "\n",
        "# Replace \"US\" with \"United States\", \"UK\" with \"United Kingdom\", and \"18\" with \"2018\"\n",
        "normalized_sentence = sentence.replace(\"US\", \"United States\").replace(\"UK\", \"United Kingdom\").replace(\"-18\", \"-2018\")\n",
        "\n",
        "# Print the normalized text\n",
        "print(normalized_sentence)\n"
      ],
      "metadata": {
        "colab": {
          "base_uri": "https://localhost:8080/"
        },
        "id": "G2KT0sL3_jxT",
        "outputId": "171894bd-52d1-4d2c-d3eb-1c8c30a451f4"
      },
      "execution_count": 14,
      "outputs": [
        {
          "output_type": "stream",
          "name": "stdout",
          "text": [
            "I visited United States from United Kingdom on 22-10-2018\n"
          ]
        }
      ]
    },
    {
      "cell_type": "markdown",
      "source": [
        "##Exercise 6: Spelling Correction of a Word and a Sentence"
      ],
      "metadata": {
        "id": "rBx-8vmXBWkR"
      }
    },
    {
      "cell_type": "code",
      "source": [
        "!pip install -q -U autocorrect"
      ],
      "metadata": {
        "colab": {
          "base_uri": "https://localhost:8080/"
        },
        "id": "Ela6G_eTBZmM",
        "outputId": "ba531cf4-7fde-44da-f060-e63bdca888a3"
      },
      "execution_count": 16,
      "outputs": [
        {
          "output_type": "stream",
          "name": "stdout",
          "text": [
            "\u001b[?25l     \u001b[90m━━━━━━━━━━━━━━━━━━━━━━━━━━━━━━━━━━━━━━━━\u001b[0m \u001b[32m0.0/622.8 kB\u001b[0m \u001b[31m?\u001b[0m eta \u001b[36m-:--:--\u001b[0m\r\u001b[2K     \u001b[91m━━━━━━━━━━━━\u001b[0m\u001b[90m╺\u001b[0m\u001b[90m━━━━━━━━━━━━━━━━━━━━━━━━━━━\u001b[0m \u001b[32m194.6/622.8 kB\u001b[0m \u001b[31m5.9 MB/s\u001b[0m eta \u001b[36m0:00:01\u001b[0m\r\u001b[2K     \u001b[91m━━━━━━━━━━━━━━━━━━━━━━━━━━━━━━━━━━━━━━━\u001b[0m\u001b[90m╺\u001b[0m \u001b[32m614.4/622.8 kB\u001b[0m \u001b[31m9.1 MB/s\u001b[0m eta \u001b[36m0:00:01\u001b[0m\r\u001b[2K     \u001b[90m━━━━━━━━━━━━━━━━━━━━━━━━━━━━━━━━━━━━━━━━\u001b[0m \u001b[32m622.8/622.8 kB\u001b[0m \u001b[31m7.7 MB/s\u001b[0m eta \u001b[36m0:00:00\u001b[0m\n",
            "\u001b[?25h  Preparing metadata (setup.py) ... \u001b[?25l\u001b[?25hdone\n",
            "  Building wheel for autocorrect (setup.py) ... \u001b[?25l\u001b[?25hdone\n"
          ]
        }
      ]
    },
    {
      "cell_type": "code",
      "source": [
        "# Importing necessary libraries\n",
        "import nltk\n",
        "from nltk import word_tokenize\n",
        "from autocorrect import Speller\n",
        "\n",
        "# Correct the spelling of a word\n",
        "spell_checker = Speller()\n",
        "corrected_word = spell_checker('Natureal')\n",
        "print(corrected_word)\n",
        "\n",
        "# Tokenize the sentence into words\n",
        "sentence = word_tokenize(\"Ntural Luanguage Processin deals with the art of extracting insightes from Natural Languaes\")\n",
        "\n",
        "# Print the tokens\n",
        "print(sentence)\n",
        "\n",
        "# Correct the spelling of each word in the sentence\n",
        "sentence_corrected = ' '.join([spell_checker(word) for word in sentence])\n",
        "\n",
        "# Print the corrected sentence\n",
        "print(sentence_corrected)\n"
      ],
      "metadata": {
        "colab": {
          "base_uri": "https://localhost:8080/"
        },
        "id": "Py5Hq3_F_jv9",
        "outputId": "15578aa0-500c-4ba4-c6a6-1d1e172b2848"
      },
      "execution_count": 20,
      "outputs": [
        {
          "output_type": "stream",
          "name": "stdout",
          "text": [
            "Natural\n",
            "['Ntural', 'Luanguage', 'Processin', 'deals', 'with', 'the', 'art', 'of', 'extracting', 'insightes', 'from', 'Natural', 'Languaes']\n",
            "Natural Language Processing deals with the art of extracting insights from Natural Languages\n"
          ]
        }
      ]
    },
    {
      "cell_type": "markdown",
      "source": [
        "##Exercise 7: Stemming\n"
      ],
      "metadata": {
        "id": "vnvmSyqjB0jw"
      }
    },
    {
      "cell_type": "code",
      "source": [
        "# Importing necessary libraries\n",
        "import nltk\n",
        "stemmer = nltk.stem.PorterStemmer()\n",
        "\n",
        "# Stem the word \"production\"\n",
        "print(stemmer.stem(\"production\"))\n",
        "\n",
        "# Stem the word \"coming\"\n",
        "print(stemmer.stem(\"coming\"))\n",
        "\n",
        "# Stem the word \"firing\"\n",
        "print(stemmer.stem(\"firing\"))\n",
        "\n",
        "# Stem the word \"battling\"\n",
        "print(stemmer.stem(\"battling\"))\n"
      ],
      "metadata": {
        "colab": {
          "base_uri": "https://localhost:8080/"
        },
        "id": "5fRQ74hK_juv",
        "outputId": "21a7f4c7-71d5-4a91-9220-bdc70e4ed2d2"
      },
      "execution_count": 21,
      "outputs": [
        {
          "output_type": "stream",
          "name": "stdout",
          "text": [
            "product\n",
            "come\n",
            "fire\n",
            "battl\n"
          ]
        }
      ]
    },
    {
      "cell_type": "markdown",
      "source": [
        "##Exercise 8: Extracting the base word using Lemmatization\n"
      ],
      "metadata": {
        "id": "tRviMD_2CAKT"
      }
    },
    {
      "cell_type": "code",
      "source": [
        "# Importing necessary libraries\n",
        "import nltk\n",
        "from nltk.stem.wordnet import WordNetLemmatizer\n",
        "\n",
        "# Download the WordNet dataset (if not already downloaded)\n",
        "nltk.download('wordnet')\n",
        "\n",
        "# Create an object of the WordNetLemmatizer class\n",
        "lemmatizer = WordNetLemmatizer()\n",
        "\n",
        "# Lemmatize the word \"products\"\n",
        "print(lemmatizer.lemmatize('products'))\n",
        "\n",
        "# Lemmatize the word \"production\"\n",
        "print(lemmatizer.lemmatize('production'))\n",
        "\n",
        "# Lemmatize the word \"coming\"\n",
        "print(lemmatizer.lemmatize('coming'))\n",
        "\n",
        "# Lemmatize the word \"battle\"\n",
        "print(lemmatizer.lemmatize('battle'))\n"
      ],
      "metadata": {
        "colab": {
          "base_uri": "https://localhost:8080/"
        },
        "id": "cTyzqJR5_jtX",
        "outputId": "6bb7d41c-38b4-4cc2-c505-c525aa39e7b2"
      },
      "execution_count": 22,
      "outputs": [
        {
          "output_type": "stream",
          "name": "stderr",
          "text": [
            "[nltk_data] Downloading package wordnet to /root/nltk_data...\n"
          ]
        },
        {
          "output_type": "stream",
          "name": "stdout",
          "text": [
            "product\n",
            "production\n",
            "coming\n",
            "battle\n"
          ]
        }
      ]
    },
    {
      "cell_type": "markdown",
      "source": [
        "##Exercise 9: Treating Named Entities\n"
      ],
      "metadata": {
        "id": "FZgwJ72UCFNK"
      }
    },
    {
      "cell_type": "code",
      "source": [
        "# Importing necessary libraries\n",
        "import nltk\n",
        "from nltk import word_tokenize\n",
        "from nltk import ne_chunk\n",
        "\n",
        "# Download the necessary datasets (if not already downloaded)\n",
        "nltk.download('maxent_ne_chunker')\n",
        "nltk.download('words')\n",
        "\n",
        "# Declare the sentence variable\n",
        "sentence = \"We are reading a book published by Packt which is based out of Birmingham.\"\n",
        "\n",
        "# Find named entities in the sentence\n",
        "tokenized_sentence = word_tokenize(sentence)\n",
        "pos_tags = nltk.pos_tag(tokenized_sentence)\n",
        "named_entities = ne_chunk(pos_tags, binary=True)\n",
        "\n",
        "# Filter out named entities from the result\n",
        "named_entities_list = [a for a in named_entities if len(a)==1]\n",
        "\n",
        "# Print the named entities\n",
        "print(named_entities_list)\n"
      ],
      "metadata": {
        "colab": {
          "base_uri": "https://localhost:8080/"
        },
        "id": "k8NnR2Wj_jsR",
        "outputId": "7df1156e-a0ee-4b72-f123-460aceb9bcc4"
      },
      "execution_count": 23,
      "outputs": [
        {
          "output_type": "stream",
          "name": "stderr",
          "text": [
            "[nltk_data] Downloading package maxent_ne_chunker to\n",
            "[nltk_data]     /root/nltk_data...\n",
            "[nltk_data]   Unzipping chunkers/maxent_ne_chunker.zip.\n",
            "[nltk_data] Downloading package words to /root/nltk_data...\n",
            "[nltk_data]   Unzipping corpora/words.zip.\n"
          ]
        },
        {
          "output_type": "stream",
          "name": "stdout",
          "text": [
            "[Tree('NE', [('Packt', 'NNP')]), Tree('NE', [('Birmingham', 'NNP')])]\n"
          ]
        }
      ]
    },
    {
      "cell_type": "code",
      "source": [
        "named_entities_list"
      ],
      "metadata": {
        "colab": {
          "base_uri": "https://localhost:8080/"
        },
        "id": "gNdSfUjaCXl4",
        "outputId": "3482e8f2-abe4-4112-e6b9-d30dfa26b2be"
      },
      "execution_count": 24,
      "outputs": [
        {
          "output_type": "execute_result",
          "data": {
            "text/plain": [
              "[Tree('NE', [('Packt', 'NNP')]), Tree('NE', [('Birmingham', 'NNP')])]"
            ]
          },
          "metadata": {},
          "execution_count": 24
        }
      ]
    },
    {
      "cell_type": "markdown",
      "source": [
        "##Exercise 10: Word Sense Disambiguation\n"
      ],
      "metadata": {
        "id": "OUMuX_mxCHbn"
      }
    },
    {
      "cell_type": "code",
      "source": [
        "# Importing necessary libraries\n",
        "import nltk\n",
        "from nltk.wsd import lesk\n",
        "from nltk import word_tokenize\n",
        "\n",
        "# Declare two variables, sentence1 and sentence2\n",
        "sentence1 = \"Keep your savings in the bank\"\n",
        "sentence2 = \"It's so risky to drive over the banks of the road\"\n",
        "\n",
        "# Find the sense of the word \"bank\" in sentence1\n",
        "sense1 = lesk(word_tokenize(sentence1), 'bank')\n",
        "print(sense1)\n",
        "\n",
        "# Find the sense of the word \"bank\" in sentence2\n",
        "sense2 = lesk(word_tokenize(sentence2), 'bank')\n",
        "print(sense2)\n"
      ],
      "metadata": {
        "colab": {
          "base_uri": "https://localhost:8080/"
        },
        "id": "Oca0WyISCIP3",
        "outputId": "40cfdec7-f17c-4598-bb28-f3ef42664c12"
      },
      "execution_count": 25,
      "outputs": [
        {
          "output_type": "stream",
          "name": "stdout",
          "text": [
            "Synset('savings_bank.n.02')\n",
            "Synset('bank.v.07')\n"
          ]
        }
      ]
    },
    {
      "cell_type": "markdown",
      "source": [
        "##Exercise 11: Sentence Boundary Detection"
      ],
      "metadata": {
        "id": "WLdVe0sgCKu_"
      }
    },
    {
      "cell_type": "code",
      "source": [
        "# Importing necessary libraries\n",
        "import nltk\n",
        "from nltk.tokenize import sent_tokenize\n",
        "\n",
        "# Use sent_tokenize method to detect sentences in a given text\n",
        "sentences = sent_tokenize(\"We are reading a book. Do you know who is the publisher? It is Packt. Packt is based out of Birmingham.\")\n",
        "\n",
        "# Print the list of sentences\n",
        "print(sentences)\n"
      ],
      "metadata": {
        "colab": {
          "base_uri": "https://localhost:8080/"
        },
        "id": "RSxHaCI_CI1Y",
        "outputId": "5f0e29e8-96ba-4106-82c9-1f567b9e2d39"
      },
      "execution_count": 26,
      "outputs": [
        {
          "output_type": "stream",
          "name": "stdout",
          "text": [
            "['We are reading a book.', 'Do you know who is the publisher?', 'It is Packt.', 'Packt is based out of Birmingham.']\n"
          ]
        }
      ]
    }
  ]
}